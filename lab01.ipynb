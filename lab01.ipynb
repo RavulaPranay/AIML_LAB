{
  "nbformat": 4,
  "nbformat_minor": 0,
  "metadata": {
    "colab": {
      "provenance": []
    },
    "kernelspec": {
      "name": "python3",
      "display_name": "Python 3"
    },
    "language_info": {
      "name": "python"
    }
  },
  "cells": [
    {
      "cell_type": "code",
      "execution_count": null,
      "metadata": {
        "colab": {
          "base_uri": "https://localhost:8080/"
        },
        "id": "mkN8Q9dEZ6Wl",
        "outputId": "98a435c4-67f1-4ebd-a82f-413b2449478e"
      },
      "outputs": [
        {
          "output_type": "execute_result",
          "data": {
            "text/plain": [
              "array([1, 2, 3])"
            ]
          },
          "metadata": {},
          "execution_count": 7
        }
      ],
      "source": [
        "import numpy as np\n",
        "list=[1,2,3]\n",
        "array1=np.array(list)\n",
        "array1"
      ]
    },
    {
      "cell_type": "code",
      "source": [
        "type(list)"
      ],
      "metadata": {
        "colab": {
          "base_uri": "https://localhost:8080/"
        },
        "id": "zgkR410Qbsz9",
        "outputId": "2431b6bb-c9ce-464f-f35d-eba754ed4483"
      },
      "execution_count": null,
      "outputs": [
        {
          "output_type": "execute_result",
          "data": {
            "text/plain": [
              "list"
            ]
          },
          "metadata": {},
          "execution_count": 9
        }
      ]
    },
    {
      "cell_type": "code",
      "source": [
        "type(array1)"
      ],
      "metadata": {
        "colab": {
          "base_uri": "https://localhost:8080/"
        },
        "id": "X0xdgymjb05h",
        "outputId": "bdf6b156-563d-474b-8e7c-ffa146ce1a44"
      },
      "execution_count": null,
      "outputs": [
        {
          "output_type": "execute_result",
          "data": {
            "text/plain": [
              "numpy.ndarray"
            ]
          },
          "metadata": {},
          "execution_count": 10
        }
      ]
    },
    {
      "cell_type": "code",
      "source": [],
      "metadata": {
        "id": "51CUZRMy6Zjq"
      },
      "execution_count": null,
      "outputs": []
    },
    {
      "cell_type": "code",
      "execution_count": null,
      "metadata": {
        "colab": {
          "base_uri": "https://localhost:8080/"
        },
        "outputId": "8bae07b1-790c-4f59-b856-54a5ed19821d",
        "id": "bvWw620BeN_H"
      },
      "outputs": [
        {
          "output_type": "execute_result",
          "data": {
            "text/plain": [
              "array([3, 2, 1])"
            ]
          },
          "metadata": {},
          "execution_count": 14
        }
      ],
      "source": [
        "import numpy as np\n",
        "list=[3,2,1]\n",
        "array2=np.array(list)\n",
        "array2"
      ]
    },
    {
      "cell_type": "code",
      "source": [
        "# size function\n",
        "print(\"Sin value of array1:\", np.sin(array1))\n",
        "\n"
      ],
      "metadata": {
        "colab": {
          "base_uri": "https://localhost:8080/"
        },
        "id": "GMv7ZhStdxm8",
        "outputId": "eed1a869-a2dd-4dc2-ce0b-60ed5f783548"
      },
      "execution_count": null,
      "outputs": [
        {
          "output_type": "stream",
          "name": "stdout",
          "text": [
            "Sin value of array1: [0.84147098 0.90929743 0.14112001]\n"
          ]
        }
      ]
    },
    {
      "cell_type": "code",
      "source": [
        "# logerithm\n",
        "print(\"natural logerithm\", np.log(array1))\n",
        "print(\"base logrithm\", np.log(array1))\n",
        "print(\"base logrithm\", np.log2(array1))\n",
        "print(\"base logrithm\", np.log10(array1))\n",
        "print(\"base logrithm\", np.exp(array1))\n"
      ],
      "metadata": {
        "colab": {
          "base_uri": "https://localhost:8080/"
        },
        "id": "8bRk1XnHe9kd",
        "outputId": "188ee0c4-e74d-4bb9-8058-b276ca4d4fdc"
      },
      "execution_count": null,
      "outputs": [
        {
          "output_type": "stream",
          "name": "stdout",
          "text": [
            "natural logerithm [0.         0.69314718 1.09861229]\n",
            "base logrithm [0.         0.69314718 1.09861229]\n",
            "base logrithm [0.        1.        1.5849625]\n",
            "base logrithm [0.         0.30103    0.47712125]\n",
            "base logrithm [ 2.71828183  7.3890561  20.08553692]\n"
          ]
        }
      ]
    },
    {
      "cell_type": "markdown",
      "source": [
        "Generate Scatterplot"
      ],
      "metadata": {
        "id": "dMgIWKbqgtLg"
      }
    },
    {
      "cell_type": "code",
      "source": [
        "people = [\"Ann\",\"Ben\",\"Charan\",\"David\",\"Eagle\",\"Fride\"]\n",
        "age = [20,17,50,26,18,21]\n",
        "weight = [39,40,45,35,45,50]\n",
        "height = [4,5,6,4,6,5]\n",
        "\n"
      ],
      "metadata": {
        "id": "RD0-E-IdfxiN"
      },
      "execution_count": null,
      "outputs": []
    },
    {
      "cell_type": "code",
      "source": [
        "import matplotlib.pyplot as plt\n"
      ],
      "metadata": {
        "id": "3ECB4oqRl6Jk"
      },
      "execution_count": null,
      "outputs": []
    },
    {
      "cell_type": "code",
      "source": [
        "plt.scatter(weight,height)\n",
        "plt.title(\"relationship bettween weight and height\")\n",
        "plt.xlabel(\"weight\")\n",
        "plt.ylabel(\"height\")\n",
        "plt.show()"
      ],
      "metadata": {
        "colab": {
          "base_uri": "https://localhost:8080/",
          "height": 472
        },
        "id": "2_bn30bBkr39",
        "outputId": "2c563d57-12c2-4900-9bf9-14c044429af1"
      },
      "execution_count": null,
      "outputs": [
        {
          "output_type": "display_data",
          "data": {
            "text/plain": [
              "<Figure size 640x480 with 1 Axes>"
            ],
            "image/png": "[encoded data removed]"
          },
          "metadata": {}
        }
      ]
    },
    {
      "cell_type": "markdown",
      "source": [
        "Generate Bar Plot"
      ],
      "metadata": {
        "id": "y1zVp38vk9Gj"
      }
    },
    {
      "cell_type": "code",
      "source": [
        "plt.figure(figsize=(6,4))\n",
        "plt.bar(x=people,height=weight,width=0.6)\n",
        "plt.title(\"relationship bettween weight and height\")\n",
        "plt.xlabel(\"weight\")\n",
        "plt.ylabel(\"height\")\n",
        "plt.show()"
      ],
      "metadata": {
        "colab": {
          "base_uri": "https://localhost:8080/",
          "height": 410
        },
        "id": "YewmyiYokxQj",
        "outputId": "759aed72-b836-4402-f3e3-86a5a94ea2de"
      },
      "execution_count": null,
      "outputs": [
        {
          "output_type": "display_data",
          "data": {
            "text/plain": [
              "<Figure size 600x400 with 1 Axes>"
            ],
            "image/png": "[encoded data removed]"
          },
          "metadata": {}
        }
      ]
    },
    {
      "cell_type": "markdown",
      "source": [
        "Generate Historgram\n"
      ],
      "metadata": {
        "id": "sYlsXn8poW_F"
      }
    },
    {
      "cell_type": "code",
      "source": [
        "import numpy as np\n",
        "plt.figure(figsize=(2,5))\n",
        "plt.hist( weight,bins=10)\n",
        "plt.title(\"relationship bettween weight and height\")\n",
        "plt.xlabel(\"weight\")\n",
        "plt.ylabel(\"height\")\n",
        "plt.show()\n"
      ],
      "metadata": {
        "colab": {
          "base_uri": "https://localhost:8080/",
          "height": 487
        },
        "id": "CH5Gt1-mohfT",
        "outputId": "8d6ae594-52e0-4513-fb3d-74e7a65ecfd2"
      },
      "execution_count": null,
      "outputs": [
        {
          "output_type": "display_data",
          "data": {
            "text/plain": [
              "<Figure size 200x500 with 1 Axes>"
            ],
            "image/png": "[encoded data removed]"
          },
          "metadata": {}
        }
      ]
    },
    {
      "cell_type": "markdown",
      "source": [],
      "metadata": {
        "id": "sSMBaqDppiDL"
      }
    },
    {
      "cell_type": "code",
      "source": [],
      "metadata": {
        "id": "ui5EE8u5phqL"
      },
      "execution_count": null,
      "outputs": []
    },
    {
      "cell_type": "markdown",
      "source": [],
      "metadata": {
        "id": "eLIi8KqMu44y"
      }
    },
    {
      "cell_type": "code",
      "source": [],
      "metadata": {
        "id": "JPCw4AIWu4Nj"
      },
      "execution_count": null,
      "outputs": []
    },
    {
      "cell_type": "markdown",
      "source": [
        "## Assess data sets"
      ],
      "metadata": {
        "id": "gow978RBuwhS"
      }
    },
    {
      "cell_type": "markdown",
      "source": [],
      "metadata": {
        "id": "tFPWduT_uu5k"
      }
    },
    {
      "cell_type": "code",
      "source": [
        "import panda.py\n"
      ],
      "metadata": {
        "id": "akGXNTjLvD1l"
      },
      "execution_count": null,
      "outputs": []
    }
  ]
}